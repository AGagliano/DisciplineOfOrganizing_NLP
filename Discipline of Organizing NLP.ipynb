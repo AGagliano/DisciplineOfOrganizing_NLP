{
 "cells": [
  {
   "cell_type": "markdown",
   "metadata": {
    "collapsed": true
   },
   "source": [
    "# Welcome to Info 202!\n",
    "\n",
    "MIMS students have Info 202 to thank our recurring dreams of spice racks and closets. The class's textbook *The Discipline of Organizing* is truly the manual of all things resource organizing. But what if we reorganized the grand organizer? What if the interaction this textbook optimized for was not learning about organizing but learning about how much this textbook is about organizing?\n",
    "\n",
    "If that appeals to you, then come with me on a magical journey through language processing!\n",
    "\n",
    "*&ast;QUEUE ALADDIN MUSIC&ast;*"
   ]
  },
  {
   "cell_type": "markdown",
   "metadata": {},
   "source": [
    "## Getting Started\n",
    "\n",
    "First we need to load up text. Fortunately, I have a PDF of the book and can go to this [totally not sketchy website](pdftotext.com) to convert it into a .txt file (the file is in the repo.) Now let's load her up and check out some of the most common words."
   ]
  },
  {
   "cell_type": "code",
   "execution_count": 1,
   "metadata": {
    "collapsed": false
   },
   "outputs": [
    {
     "data": {
      "text/plain": [
       "[('.', 20338),\n",
       " (',', 13872),\n",
       " ('the', 10921),\n",
       " ('of', 8296),\n",
       " ('and', 8205),\n",
       " ('to', 5708),\n",
       " ('a', 5434),\n",
       " ('in', 4368),\n",
       " (':', 4289),\n",
       " (']', 3815),\n",
       " ('[', 3815),\n",
       " ('is', 3637),\n",
       " ('(', 3206),\n",
       " (')', 3203),\n",
       " ('that', 3192),\n",
       " ('or', 3156),\n",
       " ('are', 2720),\n",
       " ('for', 2428),\n",
       " ('The', 2043),\n",
       " ('as', 1802)]"
      ]
     },
     "execution_count": 1,
     "metadata": {},
     "output_type": "execute_result"
    }
   ],
   "source": [
    "import nltk\n",
    "from nltk.probability import FreqDist\n",
    "\n",
    "with open('Discipline_of_Organizing_Informatics_Edition_Fourth_Edition.txt', 'r') as file:\n",
    "    book_202 = file.read()\n",
    "word_bag_202 = nltk.word_tokenize(book_202)\n",
    "dist_202 = FreqDist(word_bag_202)\n",
    "dist_202.most_common(20)"
   ]
  },
  {
   "cell_type": "markdown",
   "metadata": {},
   "source": [
    "Huh, there's a lot of garbage in there. Let's clean that up."
   ]
  },
  {
   "cell_type": "code",
   "execution_count": 7,
   "metadata": {
    "collapsed": false
   },
   "outputs": [
    {
     "data": {
      "text/plain": [
       "[('the', 12964),\n",
       " ('of', 8320),\n",
       " ('and', 8232),\n",
       " ('a', 5997),\n",
       " ('to', 5746),\n",
       " ('in', 4939),\n",
       " ('is', 3745),\n",
       " ('that', 3224),\n",
       " ('or', 3167),\n",
       " ('for', 2787),\n",
       " ('are', 2752),\n",
       " ('resources', 1944),\n",
       " ('as', 1913),\n",
       " ('organizing', 1719),\n",
       " ('be', 1710),\n",
       " ('it', 1656),\n",
       " ('with', 1613),\n",
       " ('by', 1603),\n",
       " ('can', 1504),\n",
       " ('resource', 1382)]"
      ]
     },
     "execution_count": 7,
     "metadata": {},
     "output_type": "execute_result"
    }
   ],
   "source": [
    "import re\n",
    "\n",
    "alpha_regex = re.compile('[a-zA-Z]+', re.IGNORECASE)\n",
    "word_list_202 = [w.lower() for w in word_bag_202 if alpha_regex.match(w)]\n",
    "dist_202 = FreqDist(word_list_202)\n",
    "dist_202.most_common(20)"
   ]
  },
  {
   "cell_type": "markdown",
   "metadata": {},
   "source": [
    "## Calculating Word Frequency Percentages\n",
    "\n",
    "That's a bit better. But this isn't quite the information we came here for. Yes, Bob Glushko clearly has a fondness for resources but this display doesn't tell us how much he really loves them. Let's see what percent of the words some of his favorite words make up!"
   ]
  },
  {
   "cell_type": "code",
   "execution_count": 3,
   "metadata": {
    "collapsed": false
   },
   "outputs": [
    {
     "name": "stdout",
     "output_type": "stream",
     "text": [
      "\n",
      "\"resource\" starts 1.31% of the words in Discipline of Organizing.\n",
      "\n",
      "\"organiz\" starts 1.02% of the words in Discipline of Organizing.\n",
      "\n",
      "\"informa\" starts 0.57% of the words in Discipline of Organizing.\n",
      "\n",
      "\"interact\" starts 0.29% of the words in Discipline of Organizing.\n"
     ]
    }
   ],
   "source": [
    "# checks words with the prefix\n",
    "def prefix_frequency(prefix, word_list):\n",
    "    regex_start = prefix + \"+\"\n",
    "    regex = re.compile(regex_start, re.IGNORECASE)\n",
    "    filtered_text = [w.lower() for w in word_list if regex.match(w)]\n",
    "    return len(filtered_text)\n",
    "\n",
    "# calculates the percent of words in a certain list\n",
    "def prefix_percent(prefix, word_list):\n",
    "    p_freq = prefix_frequency(prefix, word_list)\n",
    "    percent = p_freq/len(word_list) * 100\n",
    "    return percent\n",
    "\n",
    "def print_202_prefix(prefix):\n",
    "    percent = prefix_percent(prefix, word_list_202)\n",
    "    print('\\n\\\"' + prefix + '\\\" starts ' + '{:.2f}'.format(percent) + '% of the words in Discipline of Organizing.')\n",
    "\n",
    "print_202_prefix(\"resource\")\n",
    "print_202_prefix(\"organiz\")\n",
    "print_202_prefix(\"informa\")\n",
    "print_202_prefix(\"interact\")"
   ]
  },
  {
   "cell_type": "markdown",
   "metadata": {},
   "source": [
    "## Comparing Word Frequencies to an Average Text\n",
    "\n",
    "Hmmm...this is interesting. But not as interesting as it could be. After all, what if these words are just a lot more common than we assume they are? Well, let's compare it to a giant set of words, one that ends up nicely following [Zipf's law](https://en.wikipedia.org/wiki/Zipf%27s_law#cite_note-4): the Brown Corpus!"
   ]
  },
  {
   "cell_type": "code",
   "execution_count": 6,
   "metadata": {
    "collapsed": false
   },
   "outputs": [
    {
     "name": "stdout",
     "output_type": "stream",
     "text": [
      "\n",
      "The prefix \"resource\" appears 149.63 more times in Discipline of Organizing than the Brown Corpus.\n",
      "\n",
      "The prefix \"organiz\" appears 36.62 more times in Discipline of Organizing than the Brown Corpus.\n",
      "\n",
      "The prefix \"system\" appears 12.70 more times in Discipline of Organizing than the Brown Corpus.\n",
      "\n",
      "The prefix \"interact\" appears 120.35 more times in Discipline of Organizing than the Brown Corpus.\n"
     ]
    }
   ],
   "source": [
    "from nltk.corpus import brown\n",
    "\n",
    "# the brown corpus is big so this might take a bit\n",
    "brown_words = [w.lower() for w in brown.words() if alpha_regex.match(w)]\n",
    "\n",
    "def compare_brown_to_202(prefix):\n",
    "    percent_brown = prefix_percent(prefix, brown_words)\n",
    "    percent_202 = prefix_percent(prefix, word_list_202)\n",
    "    return percent_202 / percent_brown\n",
    "\n",
    "def print_prefix_comparison(prefix):\n",
    "    val = compare_brown_to_202(prefix)\n",
    "    print(\"\\nThe prefix \\\"\" + prefix + \"\\\" appears \" + '{:.2f}'.format(val) + \" more times in Discipline of Organizing than the Brown Corpus.\\n\")\n",
    "\n",
    "print_prefix_comparison(\"resource\")\n",
    "print_prefix_comparison(\"organiz\")\n",
    "print_prefix_comparison(\"informa\")\n",
    "print_prefix_comparison(\"interact\")\n"
   ]
  },
  {
   "cell_type": "markdown",
   "metadata": {},
   "source": [
    "<img src=\"dank_gif.gif\">"
   ]
  }
 ],
 "metadata": {
  "anaconda-cloud": {},
  "kernelspec": {
   "display_name": "Python [Root]",
   "language": "python",
   "name": "Python [Root]"
  },
  "language_info": {
   "codemirror_mode": {
    "name": "ipython",
    "version": 3
   },
   "file_extension": ".py",
   "mimetype": "text/x-python",
   "name": "python",
   "nbconvert_exporter": "python",
   "pygments_lexer": "ipython3",
   "version": "3.5.2"
  }
 },
 "nbformat": 4,
 "nbformat_minor": 0
}
